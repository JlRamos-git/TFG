{
 "cells": [
  {
   "cell_type": "code",
   "execution_count": 2,
   "id": "6b2eb673",
   "metadata": {},
   "outputs": [
    {
     "name": "stdout",
     "output_type": "stream",
     "text": [
      "       month  sentiment_mean  comment_count  sentiment_adjusted\n",
      "0 2015-05-01          0.5669              6             0.56690\n",
      "1 2015-06-01          0.1662              9             0.16620\n",
      "2 2015-08-01          0.6460              4             0.23849\n",
      "3 2015-10-01          0.8478              8             0.84780\n",
      "4 2015-11-01          0.1963             14             0.19630\n"
     ]
    }
   ],
   "source": [
    "import pandas as pd\n",
    "\n",
    "# Ruta del archivo de sentimiento mensual\n",
    "ruta_csv = r\"C:\\Users\\gonlo\\Desktop\\TFG\\Datos\\Resultados\\sentiment_monthly.csv\"\n",
    "\n",
    "# Leer CSV con separador punto y coma\n",
    "df = pd.read_csv(ruta_csv, sep=';')\n",
    "\n",
    "# Convertir 'month' a datetime\n",
    "df['month'] = pd.to_datetime(df['month'])\n",
    "\n",
    "# Ordenar cronológicamente\n",
    "df = df.sort_values('month')\n",
    "\n",
    "# Calcular percentil 10 del número de comentarios\n",
    "percentil_10 = df['comment_count'].quantile(0.10)\n",
    "\n",
    "# Calcular la media global del sentimiento\n",
    "media_sentimiento = df['sentiment_mean'].mean()\n",
    "\n",
    "# Crear nueva columna: si el número de comentarios < P10 => usar la media\n",
    "df['sentiment_adjusted'] = df.apply(\n",
    "    lambda row: row['sentiment_mean'] if row['comment_count'] >= percentil_10 else media_sentimiento,\n",
    "    axis=1\n",
    ")\n",
    "\n",
    "# Vista previa\n",
    "print(df[['month', 'sentiment_mean', 'comment_count', 'sentiment_adjusted']].head())\n",
    "\n",
    "# Guardar si quieres\n",
    "df.to_csv(r\"C:\\Users\\gonlo\\Desktop\\TFG\\Datos\\Resultados\\sentiment_adjusted.csv\", index=False)\n"
   ]
  },
  {
   "cell_type": "code",
   "execution_count": null,
   "id": "c474eb1a",
   "metadata": {},
   "outputs": [],
   "source": []
  }
 ],
 "metadata": {
  "kernelspec": {
   "display_name": "Python 3",
   "language": "python",
   "name": "python3"
  },
  "language_info": {
   "codemirror_mode": {
    "name": "ipython",
    "version": 3
   },
   "file_extension": ".py",
   "mimetype": "text/x-python",
   "name": "python",
   "nbconvert_exporter": "python",
   "pygments_lexer": "ipython3",
   "version": "3.13.2"
  }
 },
 "nbformat": 4,
 "nbformat_minor": 5
}
